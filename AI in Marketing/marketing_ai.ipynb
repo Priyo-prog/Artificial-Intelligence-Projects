{
  "nbformat": 4,
  "nbformat_minor": 0,
  "metadata": {
    "colab": {
      "provenance": [],
      "authorship_tag": "ABX9TyPT0hXZdDR+BdDkAqowYkjE",
      "include_colab_link": true
    },
    "kernelspec": {
      "name": "python3",
      "display_name": "Python 3"
    },
    "language_info": {
      "name": "python"
    }
  },
  "cells": [
    {
      "cell_type": "markdown",
      "metadata": {
        "id": "view-in-github",
        "colab_type": "text"
      },
      "source": [
        "<a href=\"https://colab.research.google.com/github/Priyo-prog/Artificial-Intelligence-Projects/blob/main/AI%20in%20Marketing/marketing_ai.ipynb\" target=\"_parent\"><img src=\"https://colab.research.google.com/assets/colab-badge.svg\" alt=\"Open In Colab\"/></a>"
      ]
    },
    {
      "cell_type": "markdown",
      "source": [
        "# **AI in Marketing**"
      ],
      "metadata": {
        "id": "YEMpJ8rAdgRS"
      }
    },
    {
      "cell_type": "code",
      "source": [],
      "metadata": {
        "id": "puWxx1_Fdo2s"
      },
      "execution_count": null,
      "outputs": []
    }
  ]
}