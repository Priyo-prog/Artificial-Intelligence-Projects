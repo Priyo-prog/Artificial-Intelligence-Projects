{
  "nbformat": 4,
  "nbformat_minor": 0,
  "metadata": {
    "colab": {
      "provenance": [],
      "mount_file_id": "https://github.com/Priyo-prog/Artificial-Intelligence-Projects/blob/main/Healthcare%20AI/healthcare_ai.ipynb",
      "authorship_tag": "ABX9TyNEHDnyIkfWLak24+2QuL7H",
      "include_colab_link": true
    },
    "kernelspec": {
      "name": "python3",
      "display_name": "Python 3"
    },
    "language_info": {
      "name": "python"
    }
  },
  "cells": [
    {
      "cell_type": "markdown",
      "metadata": {
        "id": "view-in-github",
        "colab_type": "text"
      },
      "source": [
        "<a href=\"https://colab.research.google.com/github/Priyo-prog/Artificial-Intelligence-Projects/blob/main/Healthcare%20AI/healthcare_ai.ipynb\" target=\"_parent\"><img src=\"https://colab.research.google.com/assets/colab-badge.svg\" alt=\"Open In Colab\"/></a>"
      ]
    },
    {
      "cell_type": "markdown",
      "source": [
        "# **Healthcare AI**\n",
        "\n",
        "* AI is revolutionizing Healthcare in many areas such as :\n",
        "  * Disease Diagonosis with medical imaging\n",
        "  * Surgical Robots\n",
        "  * Maximizing Hospital Efficiency\n",
        "\n",
        "* Deep learning has been proven to be superior in detecting disease from X-rays, MRI scans and CT scans which could significantly improve the speed and accuracy of diagnosis.   \n",
        "\n",
        "AIM :\n",
        "* You have been tasked to improve the speed and accuracy of detecting and localizing brain tumors based on MRI scans.\n",
        "* This would drastically reduce the cost of cancer diagnosis and help in early diagnosis of tumors which would essentially be a life saver.\n",
        "\n",
        "* The team has collected brain MRI scans and approached you to develop a model that could detect and localize a tumor.\n",
        "\n",
        "* You have been provided with 3929 brain MRI scans along with their brain tumor location.\n",
        "\n",
        "\n",
        "\n",
        "**WHAT IS IMAGE SEGMENTATION ?**\n",
        "\n",
        "* The goal of image segmentation is to understand and extract information from images at pixel-level.\n",
        "* Image segmentation can be used for object recognition and localization which offers tremendous value in many applications such as medical imaging and self-driving cars etc.\n",
        "* The goal of image segmentation is to train a neural network to produce pixel-wise mask of the image.\n",
        "* Modern image segmentation techniques are based on deep learning approcah which makes use of common architectures such as CNN, FCNs(Fully Convolutional Networks) and Deep Encoders-Decoders.\n",
        "* You will use ResUNet architecture to solve the current task."
      ],
      "metadata": {
        "id": "3wU4QEvALych"
      }
    },
    {
      "cell_type": "markdown",
      "source": [
        "## **Import Libraries and Packages**"
      ],
      "metadata": {
        "id": "NSOy7G7_ORcR"
      }
    },
    {
      "cell_type": "code",
      "source": [
        "import pandas as pd\n",
        "import numpy as np\n",
        "import seaborn as sns\n",
        "import matplotlib.pyplot as plt\n",
        "import zipfile\n",
        "import cv2\n",
        "from skimage import io\n",
        "import tensorflow as tf\n",
        "from tensorflow.keras import Sequential\n",
        "from tensorflow.keras import layers, optimizers\n",
        "from tensorflow.keras.applications import DenseNet121\n",
        "from tensorflow.keras.applications.resnet50 import ResNet50\n",
        "from tensorflow.keras.models import Model, load_model\n",
        "from tensorflow.keras.initializers import glorot_uniform\n",
        "from tensorflow.keras.utils import plot_model\n",
        "from tensorflow.keras.callbacks import ReduceLROnPlateau, EarlyStopping, ModelCheckpoint, LearningRateScheduler\n",
        "from IPython.display import display\n",
        "from tensorflow.keras import backend as K\n",
        "from sklearn.preprocessing import StandardScaler, normalize\n",
        "import os\n",
        "import glob\n",
        "import random\n",
        "from google.colab import files # library to upload files to colab notebook\n",
        "%matplotlib inline"
      ],
      "metadata": {
        "id": "-XPhQ71SPAqh"
      },
      "execution_count": 1,
      "outputs": []
    },
    {
      "cell_type": "markdown",
      "source": [
        "## **Mount Drive and Make Default Folder For Uploading Dataset**"
      ],
      "metadata": {
        "id": "5EIqtUv6sYdC"
      }
    },
    {
      "cell_type": "code",
      "source": [
        "# Mount the google drive\n",
        "from google.colab import drive\n",
        "drive.mount('/content/drive')"
      ],
      "metadata": {
        "id": "Rq6o-DAJQYgv",
        "outputId": "78eb79a3-6e58-46cb-da10-2f5f12219f85",
        "colab": {
          "base_uri": "https://localhost:8080/"
        }
      },
      "execution_count": 3,
      "outputs": [
        {
          "output_type": "stream",
          "name": "stdout",
          "text": [
            "Mounted at /content/drive\n"
          ]
        }
      ]
    },
    {
      "cell_type": "code",
      "source": [
        "# Navigate to My Drive directory to store dataset\n",
        "%cd /content/drive/MyDrive/Artificial Intelligence Projects/Healthcare AI/Brain MRI"
      ],
      "metadata": {
        "id": "QHFD97G-r_lm",
        "outputId": "bc1d05ad-5609-404c-9c37-4088edd09f43",
        "colab": {
          "base_uri": "https://localhost:8080/"
        }
      },
      "execution_count": 5,
      "outputs": [
        {
          "output_type": "stream",
          "name": "stdout",
          "text": [
            "/content/drive/MyDrive/Artificial Intelligence Projects/Healthcare AI/Brain MRI\n"
          ]
        }
      ]
    },
    {
      "cell_type": "code",
      "source": [
        "# data containing path to brain MRI and their corresponding mask\n",
        "brain_df = pd.read_csv(\"data_mask.csv\")"
      ],
      "metadata": {
        "id": "ifmX59lhtEpZ"
      },
      "execution_count": 6,
      "outputs": []
    },
    {
      "cell_type": "code",
      "source": [
        "brain_df.info()"
      ],
      "metadata": {
        "id": "k8f_l0qtt601",
        "outputId": "567a5116-e9ab-415e-bf46-e1dd9354496a",
        "colab": {
          "base_uri": "https://localhost:8080/"
        }
      },
      "execution_count": 7,
      "outputs": [
        {
          "output_type": "stream",
          "name": "stdout",
          "text": [
            "<class 'pandas.core.frame.DataFrame'>\n",
            "RangeIndex: 3929 entries, 0 to 3928\n",
            "Data columns (total 4 columns):\n",
            " #   Column      Non-Null Count  Dtype \n",
            "---  ------      --------------  ----- \n",
            " 0   patient_id  3929 non-null   object\n",
            " 1   image_path  3929 non-null   object\n",
            " 2   mask_path   3929 non-null   object\n",
            " 3   mask        3929 non-null   int64 \n",
            "dtypes: int64(1), object(3)\n",
            "memory usage: 122.9+ KB\n"
          ]
        }
      ]
    },
    {
      "cell_type": "code",
      "source": [
        "brain_df.head(5)"
      ],
      "metadata": {
        "id": "znDbT-UQx4Cs",
        "outputId": "8f2fca5a-336e-47f1-b753-2b34391dce3c",
        "colab": {
          "base_uri": "https://localhost:8080/",
          "height": 206
        }
      },
      "execution_count": 8,
      "outputs": [
        {
          "output_type": "execute_result",
          "data": {
            "text/plain": [
              "              patient_id                                         image_path  \\\n",
              "0  TCGA_CS_5395_19981004  TCGA_CS_5395_19981004/TCGA_CS_5395_19981004_1.tif   \n",
              "1  TCGA_CS_5395_19981004  TCGA_CS_4944_20010208/TCGA_CS_4944_20010208_1.tif   \n",
              "2  TCGA_CS_5395_19981004  TCGA_CS_4941_19960909/TCGA_CS_4941_19960909_1.tif   \n",
              "3  TCGA_CS_5395_19981004  TCGA_CS_4943_20000902/TCGA_CS_4943_20000902_1.tif   \n",
              "4  TCGA_CS_5395_19981004  TCGA_CS_5396_20010302/TCGA_CS_5396_20010302_1.tif   \n",
              "\n",
              "                                           mask_path  mask  \n",
              "0  TCGA_CS_5395_19981004/TCGA_CS_5395_19981004_1_...     0  \n",
              "1  TCGA_CS_4944_20010208/TCGA_CS_4944_20010208_1_...     0  \n",
              "2  TCGA_CS_4941_19960909/TCGA_CS_4941_19960909_1_...     0  \n",
              "3  TCGA_CS_4943_20000902/TCGA_CS_4943_20000902_1_...     0  \n",
              "4  TCGA_CS_5396_20010302/TCGA_CS_5396_20010302_1_...     0  "
            ],
            "text/html": [
              "\n",
              "  <div id=\"df-89872aa0-78fe-4251-85a6-d1b13b07ced3\">\n",
              "    <div class=\"colab-df-container\">\n",
              "      <div>\n",
              "<style scoped>\n",
              "    .dataframe tbody tr th:only-of-type {\n",
              "        vertical-align: middle;\n",
              "    }\n",
              "\n",
              "    .dataframe tbody tr th {\n",
              "        vertical-align: top;\n",
              "    }\n",
              "\n",
              "    .dataframe thead th {\n",
              "        text-align: right;\n",
              "    }\n",
              "</style>\n",
              "<table border=\"1\" class=\"dataframe\">\n",
              "  <thead>\n",
              "    <tr style=\"text-align: right;\">\n",
              "      <th></th>\n",
              "      <th>patient_id</th>\n",
              "      <th>image_path</th>\n",
              "      <th>mask_path</th>\n",
              "      <th>mask</th>\n",
              "    </tr>\n",
              "  </thead>\n",
              "  <tbody>\n",
              "    <tr>\n",
              "      <th>0</th>\n",
              "      <td>TCGA_CS_5395_19981004</td>\n",
              "      <td>TCGA_CS_5395_19981004/TCGA_CS_5395_19981004_1.tif</td>\n",
              "      <td>TCGA_CS_5395_19981004/TCGA_CS_5395_19981004_1_...</td>\n",
              "      <td>0</td>\n",
              "    </tr>\n",
              "    <tr>\n",
              "      <th>1</th>\n",
              "      <td>TCGA_CS_5395_19981004</td>\n",
              "      <td>TCGA_CS_4944_20010208/TCGA_CS_4944_20010208_1.tif</td>\n",
              "      <td>TCGA_CS_4944_20010208/TCGA_CS_4944_20010208_1_...</td>\n",
              "      <td>0</td>\n",
              "    </tr>\n",
              "    <tr>\n",
              "      <th>2</th>\n",
              "      <td>TCGA_CS_5395_19981004</td>\n",
              "      <td>TCGA_CS_4941_19960909/TCGA_CS_4941_19960909_1.tif</td>\n",
              "      <td>TCGA_CS_4941_19960909/TCGA_CS_4941_19960909_1_...</td>\n",
              "      <td>0</td>\n",
              "    </tr>\n",
              "    <tr>\n",
              "      <th>3</th>\n",
              "      <td>TCGA_CS_5395_19981004</td>\n",
              "      <td>TCGA_CS_4943_20000902/TCGA_CS_4943_20000902_1.tif</td>\n",
              "      <td>TCGA_CS_4943_20000902/TCGA_CS_4943_20000902_1_...</td>\n",
              "      <td>0</td>\n",
              "    </tr>\n",
              "    <tr>\n",
              "      <th>4</th>\n",
              "      <td>TCGA_CS_5395_19981004</td>\n",
              "      <td>TCGA_CS_5396_20010302/TCGA_CS_5396_20010302_1.tif</td>\n",
              "      <td>TCGA_CS_5396_20010302/TCGA_CS_5396_20010302_1_...</td>\n",
              "      <td>0</td>\n",
              "    </tr>\n",
              "  </tbody>\n",
              "</table>\n",
              "</div>\n",
              "      <button class=\"colab-df-convert\" onclick=\"convertToInteractive('df-89872aa0-78fe-4251-85a6-d1b13b07ced3')\"\n",
              "              title=\"Convert this dataframe to an interactive table.\"\n",
              "              style=\"display:none;\">\n",
              "        \n",
              "  <svg xmlns=\"http://www.w3.org/2000/svg\" height=\"24px\"viewBox=\"0 0 24 24\"\n",
              "       width=\"24px\">\n",
              "    <path d=\"M0 0h24v24H0V0z\" fill=\"none\"/>\n",
              "    <path d=\"M18.56 5.44l.94 2.06.94-2.06 2.06-.94-2.06-.94-.94-2.06-.94 2.06-2.06.94zm-11 1L8.5 8.5l.94-2.06 2.06-.94-2.06-.94L8.5 2.5l-.94 2.06-2.06.94zm10 10l.94 2.06.94-2.06 2.06-.94-2.06-.94-.94-2.06-.94 2.06-2.06.94z\"/><path d=\"M17.41 7.96l-1.37-1.37c-.4-.4-.92-.59-1.43-.59-.52 0-1.04.2-1.43.59L10.3 9.45l-7.72 7.72c-.78.78-.78 2.05 0 2.83L4 21.41c.39.39.9.59 1.41.59.51 0 1.02-.2 1.41-.59l7.78-7.78 2.81-2.81c.8-.78.8-2.07 0-2.86zM5.41 20L4 18.59l7.72-7.72 1.47 1.35L5.41 20z\"/>\n",
              "  </svg>\n",
              "      </button>\n",
              "      \n",
              "  <style>\n",
              "    .colab-df-container {\n",
              "      display:flex;\n",
              "      flex-wrap:wrap;\n",
              "      gap: 12px;\n",
              "    }\n",
              "\n",
              "    .colab-df-convert {\n",
              "      background-color: #E8F0FE;\n",
              "      border: none;\n",
              "      border-radius: 50%;\n",
              "      cursor: pointer;\n",
              "      display: none;\n",
              "      fill: #1967D2;\n",
              "      height: 32px;\n",
              "      padding: 0 0 0 0;\n",
              "      width: 32px;\n",
              "    }\n",
              "\n",
              "    .colab-df-convert:hover {\n",
              "      background-color: #E2EBFA;\n",
              "      box-shadow: 0px 1px 2px rgba(60, 64, 67, 0.3), 0px 1px 3px 1px rgba(60, 64, 67, 0.15);\n",
              "      fill: #174EA6;\n",
              "    }\n",
              "\n",
              "    [theme=dark] .colab-df-convert {\n",
              "      background-color: #3B4455;\n",
              "      fill: #D2E3FC;\n",
              "    }\n",
              "\n",
              "    [theme=dark] .colab-df-convert:hover {\n",
              "      background-color: #434B5C;\n",
              "      box-shadow: 0px 1px 3px 1px rgba(0, 0, 0, 0.15);\n",
              "      filter: drop-shadow(0px 1px 2px rgba(0, 0, 0, 0.3));\n",
              "      fill: #FFFFFF;\n",
              "    }\n",
              "  </style>\n",
              "\n",
              "      <script>\n",
              "        const buttonEl =\n",
              "          document.querySelector('#df-89872aa0-78fe-4251-85a6-d1b13b07ced3 button.colab-df-convert');\n",
              "        buttonEl.style.display =\n",
              "          google.colab.kernel.accessAllowed ? 'block' : 'none';\n",
              "\n",
              "        async function convertToInteractive(key) {\n",
              "          const element = document.querySelector('#df-89872aa0-78fe-4251-85a6-d1b13b07ced3');\n",
              "          const dataTable =\n",
              "            await google.colab.kernel.invokeFunction('convertToInteractive',\n",
              "                                                     [key], {});\n",
              "          if (!dataTable) return;\n",
              "\n",
              "          const docLinkHtml = 'Like what you see? Visit the ' +\n",
              "            '<a target=\"_blank\" href=https://colab.research.google.com/notebooks/data_table.ipynb>data table notebook</a>'\n",
              "            + ' to learn more about interactive tables.';\n",
              "          element.innerHTML = '';\n",
              "          dataTable['output_type'] = 'display_data';\n",
              "          await google.colab.output.renderOutput(dataTable, element);\n",
              "          const docLink = document.createElement('div');\n",
              "          docLink.innerHTML = docLinkHtml;\n",
              "          element.appendChild(docLink);\n",
              "        }\n",
              "      </script>\n",
              "    </div>\n",
              "  </div>\n",
              "  "
            ]
          },
          "metadata": {},
          "execution_count": 8
        }
      ]
    },
    {
      "cell_type": "markdown",
      "source": [
        "**MASK**\n",
        "\n",
        "* The goal of image segmentation is to understand the image at pixel level. It associate each pixel with a certain class. The output produced by image segmentation model is called a \"mask\" of the image.\n",
        "\n",
        "* Mask can be represented by associating pixel values with their coordinates. For example if we have a black image of shape (2,2) this can be represented as:\n",
        "\n",
        "    [[0,0]\n",
        "\n",
        "    [0,0]]\n",
        "\n",
        "* If our output mask is as follows:\n",
        "\n",
        "  [[255,0]\n",
        "\n",
        "   [0,255]]\n",
        "\n",
        "* To represent this mask we have to first flatten the image into a 1-D array. This would result in something like [255,0,0,255] for mask. Then we can use the index to create the mask. Finally we would have something like [1,0,0,1] as our mask.   "
      ],
      "metadata": {
        "id": "0gpYlWYmuOGX"
      }
    },
    {
      "cell_type": "code",
      "source": [
        "# Find whether the dataset is balanced or not\n",
        "brain_df[\"mask\"].value_counts()"
      ],
      "metadata": {
        "id": "lNF4wJgQxqcn",
        "outputId": "5105f827-6dc1-4e18-a804-fdd8daa57951",
        "colab": {
          "base_uri": "https://localhost:8080/"
        }
      },
      "execution_count": 10,
      "outputs": [
        {
          "output_type": "execute_result",
          "data": {
            "text/plain": [
              "0    2556\n",
              "1    1373\n",
              "Name: mask, dtype: int64"
            ]
          },
          "metadata": {},
          "execution_count": 10
        }
      ]
    },
    {
      "cell_type": "code",
      "source": [],
      "metadata": {
        "id": "Jlj8Ce51yZGm"
      },
      "execution_count": null,
      "outputs": []
    }
  ]
}