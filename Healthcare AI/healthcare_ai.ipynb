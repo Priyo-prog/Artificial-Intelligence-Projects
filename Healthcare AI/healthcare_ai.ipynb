{
  "nbformat": 4,
  "nbformat_minor": 0,
  "metadata": {
    "colab": {
      "provenance": [],
      "authorship_tag": "ABX9TyOLVoSP9S0QYhVp81FqeMoO",
      "include_colab_link": true
    },
    "kernelspec": {
      "name": "python3",
      "display_name": "Python 3"
    },
    "language_info": {
      "name": "python"
    }
  },
  "cells": [
    {
      "cell_type": "markdown",
      "metadata": {
        "id": "view-in-github",
        "colab_type": "text"
      },
      "source": [
        "<a href=\"https://colab.research.google.com/github/Priyo-prog/Artificial-Intelligence-Projects/blob/main/Healthcare%20AI/healthcare_ai.ipynb\" target=\"_parent\"><img src=\"https://colab.research.google.com/assets/colab-badge.svg\" alt=\"Open In Colab\"/></a>"
      ]
    },
    {
      "cell_type": "markdown",
      "source": [
        "# **Healthcare AI**\n",
        "\n",
        "* AI is revolutionizing Healthcare in many areas such as :\n",
        "  * Disease Diagonosis with medical imaging\n",
        "  * Surgical Robots\n",
        "  * Maximizing Hospital Efficiency\n",
        "\n",
        "* Deep learning has been proven to be superior in detecting disease from X-rays, MRI scans and CT scans which could significantly improve the speed and accuracy of diagnosis.   \n",
        "\n",
        "AIM :\n",
        "* You have been tasked to improve the speed and accuracy of detecting and localizing brain tumors based on MRI scans.\n",
        "* This would drastically reduce the cost of cancer diagnosis and help in early diagnosis of tumors which would essentially be a life saver.\n",
        "\n",
        "* The team has collected brain MRI scans and approached you to develop a model that could detect and localize a tumor.\n",
        "\n",
        "* You have been provided with 3929 brain MRI scans along with their brain tumor location."
      ],
      "metadata": {
        "id": "3wU4QEvALych"
      }
    },
    {
      "cell_type": "code",
      "source": [],
      "metadata": {
        "id": "NSOy7G7_ORcR"
      },
      "execution_count": null,
      "outputs": []
    }
  ]
}