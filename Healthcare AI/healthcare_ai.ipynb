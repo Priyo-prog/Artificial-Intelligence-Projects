{
  "nbformat": 4,
  "nbformat_minor": 0,
  "metadata": {
    "colab": {
      "provenance": [],
      "authorship_tag": "ABX9TyMDAcdUPXMl/mDdvOReX9Vp",
      "include_colab_link": true
    },
    "kernelspec": {
      "name": "python3",
      "display_name": "Python 3"
    },
    "language_info": {
      "name": "python"
    }
  },
  "cells": [
    {
      "cell_type": "markdown",
      "metadata": {
        "id": "view-in-github",
        "colab_type": "text"
      },
      "source": [
        "<a href=\"https://colab.research.google.com/github/Priyo-prog/Artificial-Intelligence-Projects/blob/main/Healthcare%20AI/healthcare_ai.ipynb\" target=\"_parent\"><img src=\"https://colab.research.google.com/assets/colab-badge.svg\" alt=\"Open In Colab\"/></a>"
      ]
    },
    {
      "cell_type": "markdown",
      "source": [
        "# **Healthcare AI**\n",
        "\n",
        "* AI is revolutionizing Healthcare in many areas such as :\n",
        "  * Disease Diagonosis with medical imaging\n",
        "  * Surgical Robots\n",
        "  * Maximizing Hospital Efficiency\n",
        "\n",
        "* Deep learning has been proven to be superior in detecting disease from X-rays, MRI scans and CT scans which could significantly improve the speed and accuracy of diagnosis.   \n",
        "\n",
        "AIM :\n",
        "* You have been tasked to improve the speed and accuracy of detecting and localizing brain tumors based on MRI scans.\n",
        "* This would drastically reduce the cost of cancer diagnosis and help in early diagnosis of tumors which would essentially be a life saver.\n",
        "\n",
        "* The team has collected brain MRI scans and approached you to develop a model that could detect and localize a tumor.\n",
        "\n",
        "* You have been provided with 3929 brain MRI scans along with their brain tumor location.\n",
        "\n",
        "\n",
        "\n",
        "**WHAT IS IMAGE SEGMENTATION ?**\n",
        "\n",
        "* The goal of image segmentation is to understand and extract information from images at pixel-level.\n",
        "* Image segmentation can be used for object recognition and localization which offers tremendous value in many applications such as medical imaging and self-driving cars etc.\n",
        "* The goal of image segmentation is to train a neural network to produce pixel-wise mask of the image.\n",
        "* Modern image segmentation techniques are based on deep learning approcah which makes use of common architectures such as CNN, FCNs(Fully Convolutional Networks) and Deep Encoders-Decoders.\n",
        "* You will use ResUNet architecture to solve the current task."
      ],
      "metadata": {
        "id": "3wU4QEvALych"
      }
    },
    {
      "cell_type": "markdown",
      "source": [
        "## **Import Libraries and Packages**"
      ],
      "metadata": {
        "id": "NSOy7G7_ORcR"
      }
    },
    {
      "cell_type": "code",
      "source": [
        "import pandas as pd\n",
        "import numpy as np\n",
        "import seaborn as sns\n",
        "import matplotlib.pyplot as plt\n",
        "import zipfile\n",
        "import cv2\n",
        "from skimage import io\n",
        "import tensorflow as tf\n",
        "from tensorflow.keras import Sequential\n",
        "from tensorflow.keras import layers, optimizers\n",
        "from tensorflow.keras.applications import DenseNet121\n",
        "from tensorflow.keras.applications.resnet50 import ResNet50\n",
        "from tensorflow.keras.models import Model, load_model\n",
        "from tensorflow.keras.initializers import glorot_uniform\n",
        "from tensorflow.keras.utils import plot_model\n",
        "from tensorflow.keras.callbacks import ReduceLROnPlateau, EarlyStopping, ModelCheckpoint, LearningRateScheduler\n",
        "from IPython.display import display\n",
        "from tensorflow.keras import backend as K\n",
        "from sklearn.preprocessing import StandardScaler, normalize\n",
        "import os\n",
        "import glob\n",
        "import random\n",
        "from google.colab import files # library to upload files to colab notebook\n",
        "%matplotlib inline"
      ],
      "metadata": {
        "id": "-XPhQ71SPAqh"
      },
      "execution_count": 2,
      "outputs": []
    },
    {
      "cell_type": "code",
      "source": [],
      "metadata": {
        "id": "Rq6o-DAJQYgv"
      },
      "execution_count": null,
      "outputs": []
    }
  ]
}