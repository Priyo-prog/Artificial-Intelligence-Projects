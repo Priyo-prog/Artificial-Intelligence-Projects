{
  "nbformat": 4,
  "nbformat_minor": 0,
  "metadata": {
    "colab": {
      "provenance": [],
      "authorship_tag": "ABX9TyNkbV3JMQZva8qt0GoOQDGY",
      "include_colab_link": true
    },
    "kernelspec": {
      "name": "python3",
      "display_name": "Python 3"
    },
    "language_info": {
      "name": "python"
    }
  },
  "cells": [
    {
      "cell_type": "markdown",
      "metadata": {
        "id": "view-in-github",
        "colab_type": "text"
      },
      "source": [
        "<a href=\"https://colab.research.google.com/github/Priyo-prog/Artificial-Intelligence-Projects/blob/main/Emotion%20AI/emotion_ai.ipynb\" target=\"_parent\"><img src=\"https://colab.research.google.com/assets/colab-badge.svg\" alt=\"Open In Colab\"/></a>"
      ]
    },
    {
      "cell_type": "markdown",
      "source": [
        "# **Introduction to Emotion AI**\n",
        "\n",
        "* Artificial Emotional Intelligence or Emotion AI is a branch of AI that allows computers to understand human non-verbal cues such as body language and facial expression.\n",
        "\n",
        "* This case study is about building, training and deploying a system that automatically monitors people's emotions and expressions.\n",
        "\n",
        "* There is a collection of 20000 facial images with their associated facial expression labels and around 2000 images with their facial key-point annotations.\n",
        "\n",
        "* there will be two models combined :\n",
        "  * A model to detect key facial points.\n",
        "  * A model to detect the facial expression or emotions.\n",
        "\n"
      ],
      "metadata": {
        "id": "p_pbV9ccl8ts"
      }
    },
    {
      "cell_type": "markdown",
      "source": [
        "## Import libraries and datasets"
      ],
      "metadata": {
        "id": "FKNXH0T6mkpl"
      }
    },
    {
      "cell_type": "code",
      "source": [
        "  import pandas as pd\n",
        "  import numpy as np\n",
        "  import os\n",
        "  import PIL\n",
        "  import seaborn as sns\n",
        "  import pickle\n",
        "  from PIL import *\n",
        "  import cv2\n",
        "  import tensorflow as tf\n",
        "  from tensorflow import keras\n",
        "  from tensorflow.keras.applications import DenseNet121\n",
        "  from tensorflow.keras.models import Model, load_model\n",
        "  from tensorflow.keras.initializers import glorot_uniform\n",
        "  from tensorflow.keras.utils import plot_model\n",
        "  from tensorflow.keras.callbacks import ReduceLROnPlateau, EarlyStopping, ModelCheckpoint, LearningRateScheduler\n",
        "  from IPython.display import display\n",
        "  from tensorflow.python.keras import *\n",
        "  from tensorflow.keras.preprocessing.image import ImageDataGenerator\n",
        "  from tensorflow.keras import layers, optimizers\n",
        "  from tensorflow.keras.applications.resnet50 import ResNet50\n",
        "  from tensorflow.keras.layers import *\n",
        "  from tensorflow.keras import backend as K\n",
        "  from keras import optimizers\n",
        "  import matplotlib.pyplot as plt\n",
        "  from sklearn.model_selection import train_test_split\n",
        "  from google.colab.patches import cv2_imshow"
      ],
      "metadata": {
        "id": "D56IgFKLlRsL"
      },
      "execution_count": 1,
      "outputs": []
    },
    {
      "cell_type": "code",
      "source": [
        "## file paths\n",
        "\n",
        "file_path = '/content/drive/MyDrive/Artificial Intelligence Projects/Emotion AI/data.csv'\n"
      ],
      "metadata": {
        "id": "GBuOUjqrq1tv"
      },
      "execution_count": 5,
      "outputs": []
    },
    {
      "cell_type": "markdown",
      "source": [
        "## Import the Dataset"
      ],
      "metadata": {
        "id": "-L9_F1GSloeg"
      }
    },
    {
      "cell_type": "code",
      "source": [
        "## mount the google drive to fetch the data\n",
        "from google.colab import drive\n",
        "drive.mount('/content/drive')"
      ],
      "metadata": {
        "colab": {
          "base_uri": "https://localhost:8080/"
        },
        "id": "xART1Koaluq-",
        "outputId": "e0fdf7c0-4975-44f6-9a50-fcddad6ff05e"
      },
      "execution_count": 3,
      "outputs": [
        {
          "output_type": "stream",
          "name": "stdout",
          "text": [
            "Mounted at /content/drive\n"
          ]
        }
      ]
    },
    {
      "cell_type": "code",
      "source": [
        "%cd /content/drive/MyDrive/Artificial Intelligence Projects/Emotion AI"
      ],
      "metadata": {
        "id": "zhfe8OjnpvYH",
        "outputId": "5ced3fde-080f-4bcd-9a15-9768e0505bea",
        "colab": {
          "base_uri": "https://localhost:8080/"
        }
      },
      "execution_count": 4,
      "outputs": [
        {
          "output_type": "stream",
          "name": "stdout",
          "text": [
            "/content/drive/MyDrive/Artificial Intelligence Projects/Emotion AI\n"
          ]
        }
      ]
    },
    {
      "cell_type": "code",
      "source": [
        "# load facial key points data\n",
        "keyfacial_df = pd.read_csv(file_path)\n",
        "keyfacial_df.head()"
      ],
      "metadata": {
        "id": "exoUvC8iqGRq",
        "colab": {
          "base_uri": "https://localhost:8080/",
          "height": 1000
        },
        "outputId": "d57cb74f-3b08-4077-d90a-19fdce7b521a"
      },
      "execution_count": 6,
      "outputs": [
        {
          "output_type": "execute_result",
          "data": {
            "text/plain": [
              "   left_eye_center_x  left_eye_center_y  right_eye_center_x  \\\n",
              "0          66.033564          39.002274           30.227008   \n",
              "1          64.332936          34.970077           29.949277   \n",
              "2          65.057053          34.909642           30.903789   \n",
              "3          65.225739          37.261774           32.023096   \n",
              "4          66.725301          39.621261           32.244810   \n",
              "\n",
              "   right_eye_center_y  left_eye_inner_corner_x  left_eye_inner_corner_y  \\\n",
              "0           36.421678                59.582075                39.647423   \n",
              "1           33.448715                58.856170                35.274349   \n",
              "2           34.909642                59.412000                36.320968   \n",
              "3           37.261774                60.003339                39.127179   \n",
              "4           38.042032                58.565890                39.621261   \n",
              "\n",
              "   left_eye_outer_corner_x  left_eye_outer_corner_y  right_eye_inner_corner_x  \\\n",
              "0                73.130346                39.969997                 36.356571   \n",
              "1                70.722723                36.187166                 36.034723   \n",
              "2                70.984421                36.320968                 37.678105   \n",
              "3                72.314713                38.380967                 37.618643   \n",
              "4                72.515926                39.884466                 36.982380   \n",
              "\n",
              "   right_eye_inner_corner_y  ...  nose_tip_y  mouth_left_corner_x  \\\n",
              "0                 37.389402  ...   57.066803            61.195308   \n",
              "1                 34.361532  ...   55.660936            56.421447   \n",
              "2                 36.320968  ...   53.538947            60.822947   \n",
              "3                 38.754115  ...   54.166539            65.598887   \n",
              "4                 39.094852  ...   64.889521            60.671411   \n",
              "\n",
              "   mouth_left_corner_y  mouth_right_corner_x  mouth_right_corner_y  \\\n",
              "0            79.970165             28.614496             77.388992   \n",
              "1            76.352000             35.122383             76.047660   \n",
              "2            73.014316             33.726316             72.732000   \n",
              "3            72.703722             37.245496             74.195478   \n",
              "4            77.523239             31.191755             76.997301   \n",
              "\n",
              "   mouth_center_top_lip_x  mouth_center_top_lip_y  mouth_center_bottom_lip_x  \\\n",
              "0               43.312602               72.935459                  43.130707   \n",
              "1               46.684596               70.266553                  45.467915   \n",
              "2               47.274947               70.191789                  47.274947   \n",
              "3               50.303165               70.091687                  51.561183   \n",
              "4               44.962748               73.707387                  44.227141   \n",
              "\n",
              "   mouth_center_bottom_lip_y  \\\n",
              "0                  84.485774   \n",
              "1                  85.480170   \n",
              "2                  78.659368   \n",
              "3                  78.268383   \n",
              "4                  86.871166   \n",
              "\n",
              "                                               Image  \n",
              "0  238 236 237 238 240 240 239 241 241 243 240 23...  \n",
              "1  219 215 204 196 204 211 212 200 180 168 178 19...  \n",
              "2  144 142 159 180 188 188 184 180 167 132 84 59 ...  \n",
              "3  193 192 193 194 194 194 193 192 168 111 50 12 ...  \n",
              "4  147 148 160 196 215 214 216 217 219 220 206 18...  \n",
              "\n",
              "[5 rows x 31 columns]"
            ],
            "text/html": [
              "\n",
              "  <div id=\"df-ce627b65-0e5f-41ec-9256-d62dae05a7f7\">\n",
              "    <div class=\"colab-df-container\">\n",
              "      <div>\n",
              "<style scoped>\n",
              "    .dataframe tbody tr th:only-of-type {\n",
              "        vertical-align: middle;\n",
              "    }\n",
              "\n",
              "    .dataframe tbody tr th {\n",
              "        vertical-align: top;\n",
              "    }\n",
              "\n",
              "    .dataframe thead th {\n",
              "        text-align: right;\n",
              "    }\n",
              "</style>\n",
              "<table border=\"1\" class=\"dataframe\">\n",
              "  <thead>\n",
              "    <tr style=\"text-align: right;\">\n",
              "      <th></th>\n",
              "      <th>left_eye_center_x</th>\n",
              "      <th>left_eye_center_y</th>\n",
              "      <th>right_eye_center_x</th>\n",
              "      <th>right_eye_center_y</th>\n",
              "      <th>left_eye_inner_corner_x</th>\n",
              "      <th>left_eye_inner_corner_y</th>\n",
              "      <th>left_eye_outer_corner_x</th>\n",
              "      <th>left_eye_outer_corner_y</th>\n",
              "      <th>right_eye_inner_corner_x</th>\n",
              "      <th>right_eye_inner_corner_y</th>\n",
              "      <th>...</th>\n",
              "      <th>nose_tip_y</th>\n",
              "      <th>mouth_left_corner_x</th>\n",
              "      <th>mouth_left_corner_y</th>\n",
              "      <th>mouth_right_corner_x</th>\n",
              "      <th>mouth_right_corner_y</th>\n",
              "      <th>mouth_center_top_lip_x</th>\n",
              "      <th>mouth_center_top_lip_y</th>\n",
              "      <th>mouth_center_bottom_lip_x</th>\n",
              "      <th>mouth_center_bottom_lip_y</th>\n",
              "      <th>Image</th>\n",
              "    </tr>\n",
              "  </thead>\n",
              "  <tbody>\n",
              "    <tr>\n",
              "      <th>0</th>\n",
              "      <td>66.033564</td>\n",
              "      <td>39.002274</td>\n",
              "      <td>30.227008</td>\n",
              "      <td>36.421678</td>\n",
              "      <td>59.582075</td>\n",
              "      <td>39.647423</td>\n",
              "      <td>73.130346</td>\n",
              "      <td>39.969997</td>\n",
              "      <td>36.356571</td>\n",
              "      <td>37.389402</td>\n",
              "      <td>...</td>\n",
              "      <td>57.066803</td>\n",
              "      <td>61.195308</td>\n",
              "      <td>79.970165</td>\n",
              "      <td>28.614496</td>\n",
              "      <td>77.388992</td>\n",
              "      <td>43.312602</td>\n",
              "      <td>72.935459</td>\n",
              "      <td>43.130707</td>\n",
              "      <td>84.485774</td>\n",
              "      <td>238 236 237 238 240 240 239 241 241 243 240 23...</td>\n",
              "    </tr>\n",
              "    <tr>\n",
              "      <th>1</th>\n",
              "      <td>64.332936</td>\n",
              "      <td>34.970077</td>\n",
              "      <td>29.949277</td>\n",
              "      <td>33.448715</td>\n",
              "      <td>58.856170</td>\n",
              "      <td>35.274349</td>\n",
              "      <td>70.722723</td>\n",
              "      <td>36.187166</td>\n",
              "      <td>36.034723</td>\n",
              "      <td>34.361532</td>\n",
              "      <td>...</td>\n",
              "      <td>55.660936</td>\n",
              "      <td>56.421447</td>\n",
              "      <td>76.352000</td>\n",
              "      <td>35.122383</td>\n",
              "      <td>76.047660</td>\n",
              "      <td>46.684596</td>\n",
              "      <td>70.266553</td>\n",
              "      <td>45.467915</td>\n",
              "      <td>85.480170</td>\n",
              "      <td>219 215 204 196 204 211 212 200 180 168 178 19...</td>\n",
              "    </tr>\n",
              "    <tr>\n",
              "      <th>2</th>\n",
              "      <td>65.057053</td>\n",
              "      <td>34.909642</td>\n",
              "      <td>30.903789</td>\n",
              "      <td>34.909642</td>\n",
              "      <td>59.412000</td>\n",
              "      <td>36.320968</td>\n",
              "      <td>70.984421</td>\n",
              "      <td>36.320968</td>\n",
              "      <td>37.678105</td>\n",
              "      <td>36.320968</td>\n",
              "      <td>...</td>\n",
              "      <td>53.538947</td>\n",
              "      <td>60.822947</td>\n",
              "      <td>73.014316</td>\n",
              "      <td>33.726316</td>\n",
              "      <td>72.732000</td>\n",
              "      <td>47.274947</td>\n",
              "      <td>70.191789</td>\n",
              "      <td>47.274947</td>\n",
              "      <td>78.659368</td>\n",
              "      <td>144 142 159 180 188 188 184 180 167 132 84 59 ...</td>\n",
              "    </tr>\n",
              "    <tr>\n",
              "      <th>3</th>\n",
              "      <td>65.225739</td>\n",
              "      <td>37.261774</td>\n",
              "      <td>32.023096</td>\n",
              "      <td>37.261774</td>\n",
              "      <td>60.003339</td>\n",
              "      <td>39.127179</td>\n",
              "      <td>72.314713</td>\n",
              "      <td>38.380967</td>\n",
              "      <td>37.618643</td>\n",
              "      <td>38.754115</td>\n",
              "      <td>...</td>\n",
              "      <td>54.166539</td>\n",
              "      <td>65.598887</td>\n",
              "      <td>72.703722</td>\n",
              "      <td>37.245496</td>\n",
              "      <td>74.195478</td>\n",
              "      <td>50.303165</td>\n",
              "      <td>70.091687</td>\n",
              "      <td>51.561183</td>\n",
              "      <td>78.268383</td>\n",
              "      <td>193 192 193 194 194 194 193 192 168 111 50 12 ...</td>\n",
              "    </tr>\n",
              "    <tr>\n",
              "      <th>4</th>\n",
              "      <td>66.725301</td>\n",
              "      <td>39.621261</td>\n",
              "      <td>32.244810</td>\n",
              "      <td>38.042032</td>\n",
              "      <td>58.565890</td>\n",
              "      <td>39.621261</td>\n",
              "      <td>72.515926</td>\n",
              "      <td>39.884466</td>\n",
              "      <td>36.982380</td>\n",
              "      <td>39.094852</td>\n",
              "      <td>...</td>\n",
              "      <td>64.889521</td>\n",
              "      <td>60.671411</td>\n",
              "      <td>77.523239</td>\n",
              "      <td>31.191755</td>\n",
              "      <td>76.997301</td>\n",
              "      <td>44.962748</td>\n",
              "      <td>73.707387</td>\n",
              "      <td>44.227141</td>\n",
              "      <td>86.871166</td>\n",
              "      <td>147 148 160 196 215 214 216 217 219 220 206 18...</td>\n",
              "    </tr>\n",
              "  </tbody>\n",
              "</table>\n",
              "<p>5 rows × 31 columns</p>\n",
              "</div>\n",
              "      <button class=\"colab-df-convert\" onclick=\"convertToInteractive('df-ce627b65-0e5f-41ec-9256-d62dae05a7f7')\"\n",
              "              title=\"Convert this dataframe to an interactive table.\"\n",
              "              style=\"display:none;\">\n",
              "        \n",
              "  <svg xmlns=\"http://www.w3.org/2000/svg\" height=\"24px\"viewBox=\"0 0 24 24\"\n",
              "       width=\"24px\">\n",
              "    <path d=\"M0 0h24v24H0V0z\" fill=\"none\"/>\n",
              "    <path d=\"M18.56 5.44l.94 2.06.94-2.06 2.06-.94-2.06-.94-.94-2.06-.94 2.06-2.06.94zm-11 1L8.5 8.5l.94-2.06 2.06-.94-2.06-.94L8.5 2.5l-.94 2.06-2.06.94zm10 10l.94 2.06.94-2.06 2.06-.94-2.06-.94-.94-2.06-.94 2.06-2.06.94z\"/><path d=\"M17.41 7.96l-1.37-1.37c-.4-.4-.92-.59-1.43-.59-.52 0-1.04.2-1.43.59L10.3 9.45l-7.72 7.72c-.78.78-.78 2.05 0 2.83L4 21.41c.39.39.9.59 1.41.59.51 0 1.02-.2 1.41-.59l7.78-7.78 2.81-2.81c.8-.78.8-2.07 0-2.86zM5.41 20L4 18.59l7.72-7.72 1.47 1.35L5.41 20z\"/>\n",
              "  </svg>\n",
              "      </button>\n",
              "      \n",
              "  <style>\n",
              "    .colab-df-container {\n",
              "      display:flex;\n",
              "      flex-wrap:wrap;\n",
              "      gap: 12px;\n",
              "    }\n",
              "\n",
              "    .colab-df-convert {\n",
              "      background-color: #E8F0FE;\n",
              "      border: none;\n",
              "      border-radius: 50%;\n",
              "      cursor: pointer;\n",
              "      display: none;\n",
              "      fill: #1967D2;\n",
              "      height: 32px;\n",
              "      padding: 0 0 0 0;\n",
              "      width: 32px;\n",
              "    }\n",
              "\n",
              "    .colab-df-convert:hover {\n",
              "      background-color: #E2EBFA;\n",
              "      box-shadow: 0px 1px 2px rgba(60, 64, 67, 0.3), 0px 1px 3px 1px rgba(60, 64, 67, 0.15);\n",
              "      fill: #174EA6;\n",
              "    }\n",
              "\n",
              "    [theme=dark] .colab-df-convert {\n",
              "      background-color: #3B4455;\n",
              "      fill: #D2E3FC;\n",
              "    }\n",
              "\n",
              "    [theme=dark] .colab-df-convert:hover {\n",
              "      background-color: #434B5C;\n",
              "      box-shadow: 0px 1px 3px 1px rgba(0, 0, 0, 0.15);\n",
              "      filter: drop-shadow(0px 1px 2px rgba(0, 0, 0, 0.3));\n",
              "      fill: #FFFFFF;\n",
              "    }\n",
              "  </style>\n",
              "\n",
              "      <script>\n",
              "        const buttonEl =\n",
              "          document.querySelector('#df-ce627b65-0e5f-41ec-9256-d62dae05a7f7 button.colab-df-convert');\n",
              "        buttonEl.style.display =\n",
              "          google.colab.kernel.accessAllowed ? 'block' : 'none';\n",
              "\n",
              "        async function convertToInteractive(key) {\n",
              "          const element = document.querySelector('#df-ce627b65-0e5f-41ec-9256-d62dae05a7f7');\n",
              "          const dataTable =\n",
              "            await google.colab.kernel.invokeFunction('convertToInteractive',\n",
              "                                                     [key], {});\n",
              "          if (!dataTable) return;\n",
              "\n",
              "          const docLinkHtml = 'Like what you see? Visit the ' +\n",
              "            '<a target=\"_blank\" href=https://colab.research.google.com/notebooks/data_table.ipynb>data table notebook</a>'\n",
              "            + ' to learn more about interactive tables.';\n",
              "          element.innerHTML = '';\n",
              "          dataTable['output_type'] = 'display_data';\n",
              "          await google.colab.output.renderOutput(dataTable, element);\n",
              "          const docLink = document.createElement('div');\n",
              "          docLink.innerHTML = docLinkHtml;\n",
              "          element.appendChild(docLink);\n",
              "        }\n",
              "      </script>\n",
              "    </div>\n",
              "  </div>\n",
              "  "
            ]
          },
          "metadata": {},
          "execution_count": 6
        }
      ]
    },
    {
      "cell_type": "code",
      "source": [
        "# Obtain relevant information about the dataframe\n",
        "keyfacial_df.info()"
      ],
      "metadata": {
        "colab": {
          "base_uri": "https://localhost:8080/"
        },
        "id": "fb0p7nD1BcUm",
        "outputId": "4c07d00a-37b2-49e4-a098-359019c49341"
      },
      "execution_count": 7,
      "outputs": [
        {
          "output_type": "stream",
          "name": "stdout",
          "text": [
            "<class 'pandas.core.frame.DataFrame'>\n",
            "RangeIndex: 2140 entries, 0 to 2139\n",
            "Data columns (total 31 columns):\n",
            " #   Column                     Non-Null Count  Dtype  \n",
            "---  ------                     --------------  -----  \n",
            " 0   left_eye_center_x          2140 non-null   float64\n",
            " 1   left_eye_center_y          2140 non-null   float64\n",
            " 2   right_eye_center_x         2140 non-null   float64\n",
            " 3   right_eye_center_y         2140 non-null   float64\n",
            " 4   left_eye_inner_corner_x    2140 non-null   float64\n",
            " 5   left_eye_inner_corner_y    2140 non-null   float64\n",
            " 6   left_eye_outer_corner_x    2140 non-null   float64\n",
            " 7   left_eye_outer_corner_y    2140 non-null   float64\n",
            " 8   right_eye_inner_corner_x   2140 non-null   float64\n",
            " 9   right_eye_inner_corner_y   2140 non-null   float64\n",
            " 10  right_eye_outer_corner_x   2140 non-null   float64\n",
            " 11  right_eye_outer_corner_y   2140 non-null   float64\n",
            " 12  left_eyebrow_inner_end_x   2140 non-null   float64\n",
            " 13  left_eyebrow_inner_end_y   2140 non-null   float64\n",
            " 14  left_eyebrow_outer_end_x   2140 non-null   float64\n",
            " 15  left_eyebrow_outer_end_y   2140 non-null   float64\n",
            " 16  right_eyebrow_inner_end_x  2140 non-null   float64\n",
            " 17  right_eyebrow_inner_end_y  2140 non-null   float64\n",
            " 18  right_eyebrow_outer_end_x  2140 non-null   float64\n",
            " 19  right_eyebrow_outer_end_y  2140 non-null   float64\n",
            " 20  nose_tip_x                 2140 non-null   float64\n",
            " 21  nose_tip_y                 2140 non-null   float64\n",
            " 22  mouth_left_corner_x        2140 non-null   float64\n",
            " 23  mouth_left_corner_y        2140 non-null   float64\n",
            " 24  mouth_right_corner_x       2140 non-null   float64\n",
            " 25  mouth_right_corner_y       2140 non-null   float64\n",
            " 26  mouth_center_top_lip_x     2140 non-null   float64\n",
            " 27  mouth_center_top_lip_y     2140 non-null   float64\n",
            " 28  mouth_center_bottom_lip_x  2140 non-null   float64\n",
            " 29  mouth_center_bottom_lip_y  2140 non-null   float64\n",
            " 30  Image                      2140 non-null   object \n",
            "dtypes: float64(30), object(1)\n",
            "memory usage: 518.4+ KB\n"
          ]
        }
      ]
    },
    {
      "cell_type": "code",
      "source": [
        "# Check if the null values exist in the dataframe\n",
        "keyfacial_df.isnull().sum()"
      ],
      "metadata": {
        "colab": {
          "base_uri": "https://localhost:8080/"
        },
        "id": "8IpmuqMJCQO7",
        "outputId": "60e941fa-da93-4352-ae2f-252a94ff63c9"
      },
      "execution_count": 8,
      "outputs": [
        {
          "output_type": "execute_result",
          "data": {
            "text/plain": [
              "left_eye_center_x            0\n",
              "left_eye_center_y            0\n",
              "right_eye_center_x           0\n",
              "right_eye_center_y           0\n",
              "left_eye_inner_corner_x      0\n",
              "left_eye_inner_corner_y      0\n",
              "left_eye_outer_corner_x      0\n",
              "left_eye_outer_corner_y      0\n",
              "right_eye_inner_corner_x     0\n",
              "right_eye_inner_corner_y     0\n",
              "right_eye_outer_corner_x     0\n",
              "right_eye_outer_corner_y     0\n",
              "left_eyebrow_inner_end_x     0\n",
              "left_eyebrow_inner_end_y     0\n",
              "left_eyebrow_outer_end_x     0\n",
              "left_eyebrow_outer_end_y     0\n",
              "right_eyebrow_inner_end_x    0\n",
              "right_eyebrow_inner_end_y    0\n",
              "right_eyebrow_outer_end_x    0\n",
              "right_eyebrow_outer_end_y    0\n",
              "nose_tip_x                   0\n",
              "nose_tip_y                   0\n",
              "mouth_left_corner_x          0\n",
              "mouth_left_corner_y          0\n",
              "mouth_right_corner_x         0\n",
              "mouth_right_corner_y         0\n",
              "mouth_center_top_lip_x       0\n",
              "mouth_center_top_lip_y       0\n",
              "mouth_center_bottom_lip_x    0\n",
              "mouth_center_bottom_lip_y    0\n",
              "Image                        0\n",
              "dtype: int64"
            ]
          },
          "metadata": {},
          "execution_count": 8
        }
      ]
    },
    {
      "cell_type": "code",
      "source": [
        "keyfacial_df['Image'].shape"
      ],
      "metadata": {
        "colab": {
          "base_uri": "https://localhost:8080/"
        },
        "id": "U6aGuaqmCvsE",
        "outputId": "2f3c8ef1-0282-4b51-8a99-a47fb3575e61"
      },
      "execution_count": 10,
      "outputs": [
        {
          "output_type": "execute_result",
          "data": {
            "text/plain": [
              "(2140,)"
            ]
          },
          "metadata": {},
          "execution_count": 10
        }
      ]
    },
    {
      "cell_type": "markdown",
      "source": [
        "The above shape shows that there is 1D array which contains all the pixels of the image, this is not desireable.\n",
        "\n",
        "We need to reshape the last column, to make it in an image format.\n",
        "\n",
        "We will make it **96 x 96** pixel format"
      ],
      "metadata": {
        "id": "l9BL6eA_DUk9"
      }
    },
    {
      "cell_type": "code",
      "source": [
        "# Since values for the image are given as space separated string, separate the values using ' ' as separator.\n",
        "# Then convert this into numpy array using np.fromstring and convert the obtained 1D array into 2D array of shape (96,96)\n",
        "keyfacial_df['Image'] = keyfacial_df.Image.apply(lambda x: np.fromstring(x, dtype=int, sep=' ').reshape(96,96) )"
      ],
      "metadata": {
        "id": "IwCoVZXpEOSd"
      },
      "execution_count": 11,
      "outputs": []
    },
    {
      "cell_type": "code",
      "source": [
        "# Obtain the shape of the image\n",
        "keyfacial_df['Image'][0].shape"
      ],
      "metadata": {
        "colab": {
          "base_uri": "https://localhost:8080/"
        },
        "id": "-cMQOFIVF2QJ",
        "outputId": "2199d9fb-5289-45c2-f739-874ffd1b236a"
      },
      "execution_count": 12,
      "outputs": [
        {
          "output_type": "execute_result",
          "data": {
            "text/plain": [
              "(96, 96)"
            ]
          },
          "metadata": {},
          "execution_count": 12
        }
      ]
    },
    {
      "cell_type": "code",
      "source": [],
      "metadata": {
        "id": "FRpOBNTXGDRQ"
      },
      "execution_count": null,
      "outputs": []
    }
  ]
}