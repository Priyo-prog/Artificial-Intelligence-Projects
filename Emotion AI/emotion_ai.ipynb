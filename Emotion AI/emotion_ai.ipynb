{
  "nbformat": 4,
  "nbformat_minor": 0,
  "metadata": {
    "colab": {
      "provenance": [],
      "authorship_tag": "ABX9TyO/nAu3+XSl1IPUZE7NYjRL",
      "include_colab_link": true
    },
    "kernelspec": {
      "name": "python3",
      "display_name": "Python 3"
    },
    "language_info": {
      "name": "python"
    }
  },
  "cells": [
    {
      "cell_type": "markdown",
      "metadata": {
        "id": "view-in-github",
        "colab_type": "text"
      },
      "source": [
        "<a href=\"https://colab.research.google.com/github/Priyo-prog/Artificial-Intelligence-Projects/blob/main/Emotion%20AI/emotion_ai.ipynb\" target=\"_parent\"><img src=\"https://colab.research.google.com/assets/colab-badge.svg\" alt=\"Open In Colab\"/></a>"
      ]
    },
    {
      "cell_type": "markdown",
      "source": [
        "# **Introduction to Emotion AI**\n",
        "\n",
        "* Artificial Emotional Intelligence or Emotion AI is a branch of AI that allows computers to understand human non-verbal cues such as body language and facial expression.\n",
        "\n"
      ],
      "metadata": {
        "id": "p_pbV9ccl8ts"
      }
    },
    {
      "cell_type": "code",
      "source": [],
      "metadata": {
        "id": "FKNXH0T6mkpl"
      },
      "execution_count": null,
      "outputs": []
    }
  ]
}