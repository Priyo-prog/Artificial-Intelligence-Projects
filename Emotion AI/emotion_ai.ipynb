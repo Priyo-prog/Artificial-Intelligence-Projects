{
  "nbformat": 4,
  "nbformat_minor": 0,
  "metadata": {
    "colab": {
      "provenance": [],
      "authorship_tag": "ABX9TyPHL0QagljF0sjb0US0FWRO",
      "include_colab_link": true
    },
    "kernelspec": {
      "name": "python3",
      "display_name": "Python 3"
    },
    "language_info": {
      "name": "python"
    }
  },
  "cells": [
    {
      "cell_type": "markdown",
      "metadata": {
        "id": "view-in-github",
        "colab_type": "text"
      },
      "source": [
        "<a href=\"https://colab.research.google.com/github/Priyo-prog/Artificial-Intelligence-Projects/blob/main/Emotion%20AI/emotion_ai.ipynb\" target=\"_parent\"><img src=\"https://colab.research.google.com/assets/colab-badge.svg\" alt=\"Open In Colab\"/></a>"
      ]
    },
    {
      "cell_type": "markdown",
      "source": [
        "# **Introduction to Emotion AI**\n",
        "\n",
        "* Artificial Emotional Intelligence or Emotion AI is a branch of AI that allows computers to understand human non-verbal cues such as body language and facial expression.\n",
        "\n",
        "* This case study is about building, training and deploying a system that automatically monitors people's emotions and expressions.\n",
        "\n",
        "* There is a collection of 20000 facial images with their associated facial expression labels and around 2000 images with their facial key-point annotations.\n",
        "\n",
        "* there will be two models combined :\n",
        "  * A model to detect key facial points.\n",
        "  * A model to detect the facial expression or emotions.\n",
        "\n"
      ],
      "metadata": {
        "id": "p_pbV9ccl8ts"
      }
    },
    {
      "cell_type": "markdown",
      "source": [
        "## Import libraries and datasets"
      ],
      "metadata": {
        "id": "FKNXH0T6mkpl"
      }
    },
    {
      "cell_type": "code",
      "source": [
        "  import pandas as pd\n",
        "  import numpy as np\n",
        "  import os\n",
        "  import PIL\n",
        "  import seaborn as sns\n",
        "  import pickle\n",
        "  from PIL import *\n",
        "  import cv2\n",
        "  import tensorflow as tf\n",
        "  from tensorflow import keras\n",
        "  from tensorflow.keras.applications import DenseNet121\n",
        "  from tensorflow.keras.models import Model, load_model\n",
        "  from tensorflow.keras.initializers import glorot_uniform\n",
        "  from tensorflow.keras.utils import plot_model\n",
        "  from tensorflow.keras.callbacks import ReduceLROnPlateau, EarlyStopping, ModelCheckpoint, LearningRateScheduler\n",
        "  from IPython.display import display\n",
        "  from tensorflow.python.keras import *\n",
        "  from tensorflow.keras.preprocessing.image import ImageDataGenerator\n",
        "  from tensorflow.keras import layers, optimizers\n",
        "  from tensorflow.keras.applications.resnet50 import ResNet50\n",
        "  from tensorflow.keras.layers import *\n",
        "  from tensorflow.keras import backend as K\n",
        "  from keras import optimizers\n",
        "  import matplotlib.pyplot as plt\n",
        "  from sklearn.model_selection import train_test_split\n",
        "  from google.colab.patches import cv2_imshow"
      ],
      "metadata": {
        "id": "D56IgFKLlRsL"
      },
      "execution_count": 6,
      "outputs": []
    },
    {
      "cell_type": "markdown",
      "source": [
        "## Import the Dataset"
      ],
      "metadata": {
        "id": "-L9_F1GSloeg"
      }
    },
    {
      "cell_type": "code",
      "source": [
        "## mount the google drive to fetch the data\n",
        "from google.colab import drive\n",
        "drive.mount('/content/drive')"
      ],
      "metadata": {
        "id": "xART1Koaluq-"
      },
      "execution_count": null,
      "outputs": []
    }
  ]
}